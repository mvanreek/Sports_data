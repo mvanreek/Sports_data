{
    "metadata": {
        "kernelspec": {
            "name": "SQL",
            "display_name": "SQL",
            "language": "sql"
        },
        "language_info": {
            "name": "sql",
            "version": ""
        }
    },
    "nbformat_minor": 2,
    "nbformat": 4,
    "cells": [
        {
            "cell_type": "code",
            "source": [
                "SELECT COUNT(*) AS TotalGoals, Team FROM TEST1.DBO.GoalsMessi_WorldRecord_2012 GROUP BY Team order by 1 desc"
            ],
            "metadata": {
                "azdata_cell_guid": "6d507d48-ae24-42bb-853d-c3992148032e"
            },
            "outputs": [
                {
                    "output_type": "display_data",
                    "data": {
                        "text/html": "(2 rows affected)"
                    },
                    "metadata": {}
                },
                {
                    "output_type": "display_data",
                    "data": {
                        "text/html": "Total execution time: 00:00:00.019"
                    },
                    "metadata": {}
                },
                {
                    "output_type": "execute_result",
                    "execution_count": 3,
                    "data": {
                        "application/vnd.dataresource+json": {
                            "schema": {
                                "fields": [
                                    {
                                        "name": "TotalGoals"
                                    },
                                    {
                                        "name": "Team"
                                    }
                                ]
                            },
                            "data": [
                                {
                                    "0": "79",
                                    "1": "Barcelona"
                                },
                                {
                                    "0": "12",
                                    "1": "Argentina"
                                }
                            ]
                        },
                        "text/html": "<table><tr><th>TotalGoals</th><th>Team</th></tr><tr><td>79</td><td>Barcelona</td></tr><tr><td>12</td><td>Argentina</td></tr></table>"
                    },
                    "metadata": {}
                }
            ],
            "execution_count": 3
        },
        {
            "cell_type": "code",
            "source": [
                "SELECT COUNT(*) AS TotalGoals, Competition FROM TEST1.DBO.GoalsMessi_WorldRecord_2012 GROUP BY Competition order by 1 desc"
            ],
            "metadata": {
                "azdata_cell_guid": "a601aa0b-dac5-4293-a06f-c83280da3f67"
            },
            "outputs": [
                {
                    "output_type": "display_data",
                    "data": {
                        "text/html": "(6 rows affected)"
                    },
                    "metadata": {}
                },
                {
                    "output_type": "display_data",
                    "data": {
                        "text/html": "Total execution time: 00:00:00.013"
                    },
                    "metadata": {}
                },
                {
                    "output_type": "execute_result",
                    "execution_count": 4,
                    "data": {
                        "application/vnd.dataresource+json": {
                            "schema": {
                                "fields": [
                                    {
                                        "name": "TotalGoals"
                                    },
                                    {
                                        "name": "Competition"
                                    }
                                ]
                            },
                            "data": [
                                {
                                    "0": "59",
                                    "1": "Spanish League"
                                },
                                {
                                    "0": "13",
                                    "1": "Champions League"
                                },
                                {
                                    "0": "7",
                                    "1": "Friendly match"
                                },
                                {
                                    "0": "5",
                                    "1": "Qualifications"
                                },
                                {
                                    "0": "5",
                                    "1": "Spanish Cup"
                                },
                                {
                                    "0": "2",
                                    "1": "Spanish Super Cup"
                                }
                            ]
                        },
                        "text/html": "<table><tr><th>TotalGoals</th><th>Competition</th></tr><tr><td>59</td><td>Spanish League</td></tr><tr><td>13</td><td>Champions League</td></tr><tr><td>7</td><td>Friendly match</td></tr><tr><td>5</td><td>Qualifications</td></tr><tr><td>5</td><td>Spanish Cup</td></tr><tr><td>2</td><td>Spanish Super Cup</td></tr></table>"
                    },
                    "metadata": {}
                }
            ],
            "execution_count": 4
        },
        {
            "cell_type": "code",
            "source": [
                "SELECT COUNT(*) AS TotalGoals, Mode FROM TEST1.DBO.GoalsMessi_WorldRecord_2012 GROUP BY Mode order by 1 desc"
            ],
            "metadata": {
                "azdata_cell_guid": "24be6866-8c41-418c-a904-f8f6eb5801c7"
            },
            "outputs": [
                {
                    "output_type": "display_data",
                    "data": {
                        "text/html": "(5 rows affected)"
                    },
                    "metadata": {}
                },
                {
                    "output_type": "display_data",
                    "data": {
                        "text/html": "Total execution time: 00:00:00.013"
                    },
                    "metadata": {}
                },
                {
                    "output_type": "execute_result",
                    "metadata": {},
                    "execution_count": 1,
                    "data": {
                        "application/vnd.dataresource+json": {
                            "schema": {
                                "fields": [
                                    {
                                        "name": "TotalGoals"
                                    },
                                    {
                                        "name": "Mode"
                                    }
                                ]
                            },
                            "data": [
                                {
                                    "0": "59",
                                    "1": "Left"
                                },
                                {
                                    "0": "14",
                                    "1": "Penalty"
                                },
                                {
                                    "0": "8",
                                    "1": "Right"
                                },
                                {
                                    "0": "7",
                                    "1": "Free kick"
                                },
                                {
                                    "0": "3",
                                    "1": "Head"
                                }
                            ]
                        },
                        "text/html": "<table><tr><th>TotalGoals</th><th>Mode</th></tr><tr><td>59</td><td>Left</td></tr><tr><td>14</td><td>Penalty</td></tr><tr><td>8</td><td>Right</td></tr><tr><td>7</td><td>Free kick</td></tr><tr><td>3</td><td>Head</td></tr></table>"
                    }
                }
            ],
            "execution_count": 1
        },
        {
            "cell_type": "code",
            "source": [
                "SELECT COUNT(*) AS TotalGoals, [Date] FROM TEST1.DBO.GoalsMessi_WorldRecord_2012 GROUP BY  [Date] order by 1 desc"
            ],
            "metadata": {
                "azdata_cell_guid": "221ddd28-d931-43ed-87be-c6abe85d436a"
            },
            "outputs": [
                {
                    "output_type": "display_data",
                    "data": {
                        "text/html": "(46 rows affected)"
                    },
                    "metadata": {}
                },
                {
                    "output_type": "display_data",
                    "data": {
                        "text/html": "Total execution time: 00:00:00.042"
                    },
                    "metadata": {}
                },
                {
                    "output_type": "execute_result",
                    "metadata": {},
                    "execution_count": 2,
                    "data": {
                        "application/vnd.dataresource+json": {
                            "schema": {
                                "fields": [
                                    {
                                        "name": "TotalGoals"
                                    },
                                    {
                                        "name": "Date"
                                    }
                                ]
                            },
                            "data": [
                                {
                                    "0": "6",
                                    "1": "2012-05-02"
                                },
                                {
                                    "0": "5",
                                    "1": "2012-03-07"
                                },
                                {
                                    "0": "4",
                                    "1": "2012-02-19"
                                },
                                {
                                    "0": "4",
                                    "1": "2012-05-05"
                                },
                                {
                                    "0": "3",
                                    "1": "2012-03-20"
                                },
                                {
                                    "0": "3",
                                    "1": "2012-06-09"
                                },
                                {
                                    "0": "3",
                                    "1": "2012-10-20"
                                },
                                {
                                    "0": "3",
                                    "1": "2012-02-29"
                                },
                                {
                                    "0": "2",
                                    "1": "2012-10-27"
                                },
                                {
                                    "0": "2",
                                    "1": "2012-09-15"
                                },
                                {
                                    "0": "2",
                                    "1": "2012-09-19"
                                },
                                {
                                    "0": "2",
                                    "1": "2012-10-07"
                                },
                                {
                                    "0": "2",
                                    "1": "2012-10-12"
                                },
                                {
                                    "0": "2",
                                    "1": "2012-04-14"
                                },
                                {
                                    "0": "2",
                                    "1": "2012-04-29"
                                },
                                {
                                    "0": "2",
                                    "1": "2012-08-19"
                                },
                                {
                                    "0": "2",
                                    "1": "2012-08-26"
                                },
                                {
                                    "0": "2",
                                    "1": "2012-11-11"
                                },
                                {
                                    "0": "2",
                                    "1": "2012-11-17"
                                },
                                {
                                    "0": "2",
                                    "1": "2012-11-20"
                                },
                                {
                                    "0": "2",
                                    "1": "2012-11-25"
                                },
                                {
                                    "0": "2",
                                    "1": "2012-12-01"
                                },
                                {
                                    "0": "2",
                                    "1": "2012-12-09"
                                },
                                {
                                    "0": "2",
                                    "1": "2012-12-12"
                                },
                                {
                                    "0": "2",
                                    "1": "2012-12-16"
                                },
                                {
                                    "0": "2",
                                    "1": "2012-04-03"
                                },
                                {
                                    "0": "2",
                                    "1": "2012-04-07"
                                },
                                {
                                    "0": "2",
                                    "1": "2012-01-04"
                                },
                                {
                                    "0": "2",
                                    "1": "2012-01-15"
                                },
                                {
                                    "0": "2",
                                    "1": "2012-02-11"
                                },
                                {
                                    "0": "1",
                                    "1": "2012-02-14"
                                },
                                {
                                    "0": "1",
                                    "1": "2012-02-04"
                                },
                                {
                                    "0": "1",
                                    "1": "2012-02-26"
                                },
                                {
                                    "0": "1",
                                    "1": "2012-03-17"
                                },
                                {
                                    "0": "1",
                                    "1": "2012-04-10"
                                },
                                {
                                    "0": "1",
                                    "1": "2012-03-24"
                                },
                                {
                                    "0": "1",
                                    "1": "2012-03-31"
                                },
                                {
                                    "0": "1",
                                    "1": "2012-05-25"
                                },
                                {
                                    "0": "1",
                                    "1": "2012-06-02"
                                },
                                {
                                    "0": "1",
                                    "1": "2012-12-22"
                                },
                                {
                                    "0": "1",
                                    "1": "2012-08-29"
                                },
                                {
                                    "0": "1",
                                    "1": "2012-09-07"
                                },
                                {
                                    "0": "1",
                                    "1": "2012-08-23"
                                },
                                {
                                    "0": "1",
                                    "1": "2012-08-15"
                                },
                                {
                                    "0": "1",
                                    "1": "2012-10-16"
                                },
                                {
                                    "0": "1",
                                    "1": "2012-11-07"
                                }
                            ]
                        },
                        "text/html": "<table><tr><th>TotalGoals</th><th>Date</th></tr><tr><td>6</td><td>2012-05-02</td></tr><tr><td>5</td><td>2012-03-07</td></tr><tr><td>4</td><td>2012-02-19</td></tr><tr><td>4</td><td>2012-05-05</td></tr><tr><td>3</td><td>2012-03-20</td></tr><tr><td>3</td><td>2012-06-09</td></tr><tr><td>3</td><td>2012-10-20</td></tr><tr><td>3</td><td>2012-02-29</td></tr><tr><td>2</td><td>2012-10-27</td></tr><tr><td>2</td><td>2012-09-15</td></tr><tr><td>2</td><td>2012-09-19</td></tr><tr><td>2</td><td>2012-10-07</td></tr><tr><td>2</td><td>2012-10-12</td></tr><tr><td>2</td><td>2012-04-14</td></tr><tr><td>2</td><td>2012-04-29</td></tr><tr><td>2</td><td>2012-08-19</td></tr><tr><td>2</td><td>2012-08-26</td></tr><tr><td>2</td><td>2012-11-11</td></tr><tr><td>2</td><td>2012-11-17</td></tr><tr><td>2</td><td>2012-11-20</td></tr><tr><td>2</td><td>2012-11-25</td></tr><tr><td>2</td><td>2012-12-01</td></tr><tr><td>2</td><td>2012-12-09</td></tr><tr><td>2</td><td>2012-12-12</td></tr><tr><td>2</td><td>2012-12-16</td></tr><tr><td>2</td><td>2012-04-03</td></tr><tr><td>2</td><td>2012-04-07</td></tr><tr><td>2</td><td>2012-01-04</td></tr><tr><td>2</td><td>2012-01-15</td></tr><tr><td>2</td><td>2012-02-11</td></tr><tr><td>1</td><td>2012-02-14</td></tr><tr><td>1</td><td>2012-02-04</td></tr><tr><td>1</td><td>2012-02-26</td></tr><tr><td>1</td><td>2012-03-17</td></tr><tr><td>1</td><td>2012-04-10</td></tr><tr><td>1</td><td>2012-03-24</td></tr><tr><td>1</td><td>2012-03-31</td></tr><tr><td>1</td><td>2012-05-25</td></tr><tr><td>1</td><td>2012-06-02</td></tr><tr><td>1</td><td>2012-12-22</td></tr><tr><td>1</td><td>2012-08-29</td></tr><tr><td>1</td><td>2012-09-07</td></tr><tr><td>1</td><td>2012-08-23</td></tr><tr><td>1</td><td>2012-08-15</td></tr><tr><td>1</td><td>2012-10-16</td></tr><tr><td>1</td><td>2012-11-07</td></tr></table>"
                    }
                }
            ],
            "execution_count": 2
        },
        {
            "cell_type": "code",
            "source": [
                "SELECT COUNT(*) AS TotalGoals, [Opponent] FROM TEST1.DBO.GoalsMessi_WorldRecord_2012 GROUP BY  [Opponent] order by 1 desc"
            ],
            "metadata": {
                "azdata_cell_guid": "3a43fdae-a61c-46b6-958a-fbd50c2012ef"
            },
            "outputs": [
                {
                    "output_type": "display_data",
                    "data": {
                        "text/html": "(33 rows affected)"
                    },
                    "metadata": {}
                },
                {
                    "output_type": "display_data",
                    "data": {
                        "text/html": "Total execution time: 00:00:00.019"
                    },
                    "metadata": {}
                },
                {
                    "output_type": "execute_result",
                    "metadata": {},
                    "execution_count": 3,
                    "data": {
                        "application/vnd.dataresource+json": {
                            "schema": {
                                "fields": [
                                    {
                                        "name": "TotalGoals"
                                    },
                                    {
                                        "name": "Opponent"
                                    }
                                ]
                            },
                            "data": [
                                {
                                    "0": "6",
                                    "1": "Bayer Leverkusen"
                                },
                                {
                                    "0": "6",
                                    "1": "M�laga"
                                },
                                {
                                    "0": "4",
                                    "1": "Osasuna"
                                },
                                {
                                    "0": "4",
                                    "1": "Spartak Mosc�"
                                },
                                {
                                    "0": "4",
                                    "1": "Rayo Vallecano"
                                },
                                {
                                    "0": "4",
                                    "1": "Real Madrid"
                                },
                                {
                                    "0": "4",
                                    "1": "Valencia"
                                },
                                {
                                    "0": "4",
                                    "1": "Zaragoza"
                                },
                                {
                                    "0": "4",
                                    "1": "Espanyol"
                                },
                                {
                                    "0": "4",
                                    "1": "Levante"
                                },
                                {
                                    "0": "3",
                                    "1": "Mallorca"
                                },
                                {
                                    "0": "3",
                                    "1": "Getafe"
                                },
                                {
                                    "0": "3",
                                    "1": "Granada"
                                },
                                {
                                    "0": "3",
                                    "1": "Deportivo La Coru�a"
                                },
                                {
                                    "0": "3",
                                    "1": "Brasil"
                                },
                                {
                                    "0": "3",
                                    "1": "Atl�tico Madrid"
                                },
                                {
                                    "0": "3",
                                    "1": "Real Sociedad"
                                },
                                {
                                    "0": "3",
                                    "1": "Switzerland"
                                },
                                {
                                    "0": "2",
                                    "1": "Uruguay"
                                },
                                {
                                    "0": "2",
                                    "1": "Racing de Santander"
                                },
                                {
                                    "0": "2",
                                    "1": "Cordoba"
                                },
                                {
                                    "0": "2",
                                    "1": "Belis"
                                },
                                {
                                    "0": "2",
                                    "1": "Betis"
                                },
                                {
                                    "0": "2",
                                    "1": "Athletic"
                                },
                                {
                                    "0": "2",
                                    "1": "Athletic Bilbao"
                                },
                                {
                                    "0": "2",
                                    "1": "Milan"
                                },
                                {
                                    "0": "1",
                                    "1": "Ecuador"
                                },
                                {
                                    "0": "1",
                                    "1": "Germany"
                                },
                                {
                                    "0": "1",
                                    "1": "Celtic"
                                },
                                {
                                    "0": "1",
                                    "1": "Chile"
                                },
                                {
                                    "0": "1",
                                    "1": "Valladolid"
                                },
                                {
                                    "0": "1",
                                    "1": "Paraguay"
                                },
                                {
                                    "0": "1",
                                    "1": "Sevilla"
                                }
                            ]
                        },
                        "text/html": "<table><tr><th>TotalGoals</th><th>Opponent</th></tr><tr><td>6</td><td>Bayer Leverkusen</td></tr><tr><td>6</td><td>M�laga</td></tr><tr><td>4</td><td>Osasuna</td></tr><tr><td>4</td><td>Spartak Mosc�</td></tr><tr><td>4</td><td>Rayo Vallecano</td></tr><tr><td>4</td><td>Real Madrid</td></tr><tr><td>4</td><td>Valencia</td></tr><tr><td>4</td><td>Zaragoza</td></tr><tr><td>4</td><td>Espanyol</td></tr><tr><td>4</td><td>Levante</td></tr><tr><td>3</td><td>Mallorca</td></tr><tr><td>3</td><td>Getafe</td></tr><tr><td>3</td><td>Granada</td></tr><tr><td>3</td><td>Deportivo La Coru�a</td></tr><tr><td>3</td><td>Brasil</td></tr><tr><td>3</td><td>Atl�tico Madrid</td></tr><tr><td>3</td><td>Real Sociedad</td></tr><tr><td>3</td><td>Switzerland</td></tr><tr><td>2</td><td>Uruguay</td></tr><tr><td>2</td><td>Racing de Santander</td></tr><tr><td>2</td><td>Cordoba</td></tr><tr><td>2</td><td>Belis</td></tr><tr><td>2</td><td>Betis</td></tr><tr><td>2</td><td>Athletic</td></tr><tr><td>2</td><td>Athletic Bilbao</td></tr><tr><td>2</td><td>Milan</td></tr><tr><td>1</td><td>Ecuador</td></tr><tr><td>1</td><td>Germany</td></tr><tr><td>1</td><td>Celtic</td></tr><tr><td>1</td><td>Chile</td></tr><tr><td>1</td><td>Valladolid</td></tr><tr><td>1</td><td>Paraguay</td></tr><tr><td>1</td><td>Sevilla</td></tr></table>"
                    }
                }
            ],
            "execution_count": 3
        }
    ]
}